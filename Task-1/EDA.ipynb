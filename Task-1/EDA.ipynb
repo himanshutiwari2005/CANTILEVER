{
 "cells": [
  {
   "cell_type": "markdown",
   "id": "12c37b73-1a19-4276-b2f3-baf51d0fb593",
   "metadata": {},
   "source": [
    "# Import libraries as we go"
   ]
  },
  {
   "cell_type": "code",
   "execution_count": 11,
   "id": "23e781cd-4a5d-4d20-9559-1632bc1e3250",
   "metadata": {},
   "outputs": [],
   "source": [
    "import pandas as pd\n",
    "import matplotlib.pyplot as plt\n",
    "import seaborn as sns\n",
    "import spacy\n",
    "import nltk\n",
    "from nltk.corpus import stopwords\n",
    "from nltk.tokenize import word_tokenize\n",
    "import re\n",
    "import contractions\n",
    "from collections import Counter"
   ]
  },
  {
   "cell_type": "markdown",
   "id": "a4e4e705-9d67-4130-a854-3f84ea060742",
   "metadata": {},
   "source": [
    "# Load all the required datasets as we go"
   ]
  },
  {
   "cell_type": "code",
   "execution_count": 2,
   "id": "5e636578-c59e-4657-aff3-03328af5f20b",
   "metadata": {},
   "outputs": [
    {
     "name": "stderr",
     "output_type": "stream",
     "text": [
      "[nltk_data] Downloading package punkt to\n",
      "[nltk_data]     C:\\Users\\ayush\\AppData\\Roaming\\nltk_data...\n",
      "[nltk_data]   Package punkt is already up-to-date!\n",
      "[nltk_data] Downloading package stopwords to\n",
      "[nltk_data]     C:\\Users\\ayush\\AppData\\Roaming\\nltk_data...\n",
      "[nltk_data]   Package stopwords is already up-to-date!\n"
     ]
    },
    {
     "data": {
      "text/plain": [
       "True"
      ]
     },
     "execution_count": 2,
     "metadata": {},
     "output_type": "execute_result"
    }
   ],
   "source": [
    "nltk.download(\"punkt\")\n",
    "nltk.download(\"stopwords\")"
   ]
  },
  {
   "cell_type": "code",
   "execution_count": 3,
   "id": "ab09c2a2-f05e-490e-bdbb-03a1c1f5dae3",
   "metadata": {},
   "outputs": [
    {
     "data": {
      "text/html": [
       "<div>\n",
       "<style scoped>\n",
       "    .dataframe tbody tr th:only-of-type {\n",
       "        vertical-align: middle;\n",
       "    }\n",
       "\n",
       "    .dataframe tbody tr th {\n",
       "        vertical-align: top;\n",
       "    }\n",
       "\n",
       "    .dataframe thead th {\n",
       "        text-align: right;\n",
       "    }\n",
       "</style>\n",
       "<table border=\"1\" class=\"dataframe\">\n",
       "  <thead>\n",
       "    <tr style=\"text-align: right;\">\n",
       "      <th></th>\n",
       "      <th>Comments</th>\n",
       "      <th>Ratings</th>\n",
       "    </tr>\n",
       "  </thead>\n",
       "  <tbody>\n",
       "    <tr>\n",
       "      <th>0</th>\n",
       "      <td>I didnt go in with big hopes, but i was expect...</td>\n",
       "      <td>8</td>\n",
       "    </tr>\n",
       "    <tr>\n",
       "      <th>1</th>\n",
       "      <td>A unique genre, a well written story (script) ...</td>\n",
       "      <td>8</td>\n",
       "    </tr>\n",
       "    <tr>\n",
       "      <th>2</th>\n",
       "      <td>Majestic at scale, grandeur in VFX, and great ...</td>\n",
       "      <td>9</td>\n",
       "    </tr>\n",
       "    <tr>\n",
       "      <th>3</th>\n",
       "      <td>\"Kalki 2898\" is not just a movie; it's an expe...</td>\n",
       "      <td>10</td>\n",
       "    </tr>\n",
       "    <tr>\n",
       "      <th>4</th>\n",
       "      <td>Best Indian movie Nagi combined Hindu mytholog...</td>\n",
       "      <td>10</td>\n",
       "    </tr>\n",
       "  </tbody>\n",
       "</table>\n",
       "</div>"
      ],
      "text/plain": [
       "                                            Comments  Ratings\n",
       "0  I didnt go in with big hopes, but i was expect...        8\n",
       "1  A unique genre, a well written story (script) ...        8\n",
       "2  Majestic at scale, grandeur in VFX, and great ...        9\n",
       "3  \"Kalki 2898\" is not just a movie; it's an expe...       10\n",
       "4  Best Indian movie Nagi combined Hindu mytholog...       10"
      ]
     },
     "execution_count": 3,
     "metadata": {},
     "output_type": "execute_result"
    }
   ],
   "source": [
    "df = pd.read_csv(\"data/kalki_movie_reviews.csv\")\n",
    "df.head()"
   ]
  },
  {
   "cell_type": "code",
   "execution_count": 4,
   "id": "0b3780ac-639f-4051-a413-67dbc31d18ee",
   "metadata": {},
   "outputs": [
    {
     "data": {
      "text/plain": [
       "count    5000.000000\n",
       "mean        8.160000\n",
       "std         2.166873\n",
       "min         1.000000\n",
       "25%         8.000000\n",
       "50%         9.000000\n",
       "75%        10.000000\n",
       "max        10.000000\n",
       "Name: Ratings, dtype: float64"
      ]
     },
     "execution_count": 4,
     "metadata": {},
     "output_type": "execute_result"
    }
   ],
   "source": [
    "df.Ratings.describe()"
   ]
  },
  {
   "cell_type": "code",
   "execution_count": 5,
   "id": "22560045-8031-4add-ac35-e4adb69a955f",
   "metadata": {
    "scrolled": true
   },
   "outputs": [
    {
     "data": {
      "text/plain": [
       "{'a',\n",
       " 'about',\n",
       " 'above',\n",
       " 'after',\n",
       " 'again',\n",
       " 'against',\n",
       " 'ain',\n",
       " 'all',\n",
       " 'am',\n",
       " 'an',\n",
       " 'and',\n",
       " 'any',\n",
       " 'are',\n",
       " 'aren',\n",
       " \"aren't\",\n",
       " 'as',\n",
       " 'at',\n",
       " 'be',\n",
       " 'because',\n",
       " 'been',\n",
       " 'before',\n",
       " 'being',\n",
       " 'below',\n",
       " 'between',\n",
       " 'both',\n",
       " 'but',\n",
       " 'by',\n",
       " 'can',\n",
       " 'couldn',\n",
       " \"couldn't\",\n",
       " 'd',\n",
       " 'did',\n",
       " 'didn',\n",
       " \"didn't\",\n",
       " 'do',\n",
       " 'does',\n",
       " 'doesn',\n",
       " \"doesn't\",\n",
       " 'doing',\n",
       " 'don',\n",
       " \"don't\",\n",
       " 'down',\n",
       " 'during',\n",
       " 'each',\n",
       " 'few',\n",
       " 'for',\n",
       " 'from',\n",
       " 'further',\n",
       " 'had',\n",
       " 'hadn',\n",
       " \"hadn't\",\n",
       " 'has',\n",
       " 'hasn',\n",
       " \"hasn't\",\n",
       " 'have',\n",
       " 'haven',\n",
       " \"haven't\",\n",
       " 'having',\n",
       " 'he',\n",
       " \"he'd\",\n",
       " \"he'll\",\n",
       " \"he's\",\n",
       " 'her',\n",
       " 'here',\n",
       " 'hers',\n",
       " 'herself',\n",
       " 'him',\n",
       " 'himself',\n",
       " 'his',\n",
       " 'how',\n",
       " 'i',\n",
       " \"i'd\",\n",
       " \"i'll\",\n",
       " \"i'm\",\n",
       " \"i've\",\n",
       " 'if',\n",
       " 'in',\n",
       " 'into',\n",
       " 'is',\n",
       " 'isn',\n",
       " \"isn't\",\n",
       " 'it',\n",
       " \"it'd\",\n",
       " \"it'll\",\n",
       " \"it's\",\n",
       " 'its',\n",
       " 'itself',\n",
       " 'just',\n",
       " 'll',\n",
       " 'm',\n",
       " 'ma',\n",
       " 'me',\n",
       " 'mightn',\n",
       " \"mightn't\",\n",
       " 'more',\n",
       " 'most',\n",
       " 'mustn',\n",
       " \"mustn't\",\n",
       " 'my',\n",
       " 'myself',\n",
       " 'needn',\n",
       " \"needn't\",\n",
       " 'no',\n",
       " 'nor',\n",
       " 'not',\n",
       " 'now',\n",
       " 'o',\n",
       " 'of',\n",
       " 'off',\n",
       " 'on',\n",
       " 'once',\n",
       " 'only',\n",
       " 'or',\n",
       " 'other',\n",
       " 'our',\n",
       " 'ours',\n",
       " 'ourselves',\n",
       " 'out',\n",
       " 'over',\n",
       " 'own',\n",
       " 're',\n",
       " 's',\n",
       " 'same',\n",
       " 'shan',\n",
       " \"shan't\",\n",
       " 'she',\n",
       " \"she'd\",\n",
       " \"she'll\",\n",
       " \"she's\",\n",
       " 'should',\n",
       " \"should've\",\n",
       " 'shouldn',\n",
       " \"shouldn't\",\n",
       " 'so',\n",
       " 'some',\n",
       " 'such',\n",
       " 't',\n",
       " 'than',\n",
       " 'that',\n",
       " \"that'll\",\n",
       " 'the',\n",
       " 'their',\n",
       " 'theirs',\n",
       " 'them',\n",
       " 'themselves',\n",
       " 'then',\n",
       " 'there',\n",
       " 'these',\n",
       " 'they',\n",
       " \"they'd\",\n",
       " \"they'll\",\n",
       " \"they're\",\n",
       " \"they've\",\n",
       " 'this',\n",
       " 'those',\n",
       " 'through',\n",
       " 'to',\n",
       " 'too',\n",
       " 'under',\n",
       " 'until',\n",
       " 'up',\n",
       " 've',\n",
       " 'very',\n",
       " 'was',\n",
       " 'wasn',\n",
       " \"wasn't\",\n",
       " 'we',\n",
       " \"we'd\",\n",
       " \"we'll\",\n",
       " \"we're\",\n",
       " \"we've\",\n",
       " 'were',\n",
       " 'weren',\n",
       " \"weren't\",\n",
       " 'what',\n",
       " 'when',\n",
       " 'where',\n",
       " 'which',\n",
       " 'while',\n",
       " 'who',\n",
       " 'whom',\n",
       " 'why',\n",
       " 'will',\n",
       " 'with',\n",
       " 'won',\n",
       " \"won't\",\n",
       " 'wouldn',\n",
       " \"wouldn't\",\n",
       " 'y',\n",
       " 'you',\n",
       " \"you'd\",\n",
       " \"you'll\",\n",
       " \"you're\",\n",
       " \"you've\",\n",
       " 'your',\n",
       " 'yours',\n",
       " 'yourself',\n",
       " 'yourselves'}"
      ]
     },
     "execution_count": 5,
     "metadata": {},
     "output_type": "execute_result"
    }
   ],
   "source": [
    "stwords = set(stopwords.words(\"English\"))\n",
    "stwords"
   ]
  },
  {
   "cell_type": "markdown",
   "id": "698e1950-c20c-430d-a8d0-867fbc9b9693",
   "metadata": {},
   "source": [
    "# Functions used to clean the text data and make it useable"
   ]
  },
  {
   "cell_type": "code",
   "execution_count": 6,
   "id": "7958db69-00ba-41c9-8dd8-593e85bb06e6",
   "metadata": {},
   "outputs": [],
   "source": [
    "def textCleaner(text:str) -> str:\n",
    "    text = text.lower()\n",
    "    text = contractions.fix(text)\n",
    "    text = re.sub(r\"[^a-z\\s]\", \"\", text)\n",
    "    token = word_tokenize(text)\n",
    "    text = [w for w in token if w not in stwords]\n",
    "    return text"
   ]
  },
  {
   "cell_type": "code",
   "execution_count": 7,
   "id": "24a24f69-c0e8-466b-9cbe-a8ac4748e7b3",
   "metadata": {},
   "outputs": [
    {
     "data": {
      "text/plain": [
       "['apple', 'fruit']"
      ]
     },
     "execution_count": 7,
     "metadata": {},
     "output_type": "execute_result"
    }
   ],
   "source": [
    "textCleaner(\"Apple is a fruit\")"
   ]
  },
  {
   "cell_type": "code",
   "execution_count": 19,
   "id": "0a04e295-597d-4c54-b8aa-d865fb50f808",
   "metadata": {},
   "outputs": [],
   "source": [
    "def plotCustom(data = df):\n",
    "    sns.countplot(x=\"Ratings\", data=df)\n",
    "    plt.title(\"Rating Distribution\")\n",
    "    plt.show()\n",
    "\n",
    "    sns.histplot(df[\"review_Length\"], bins=10, kde=True)\n",
    "    plt.title(\"Distribution of review length in data\")\n",
    "    plt.show()"
   ]
  },
  {
   "cell_type": "code",
   "execution_count": 9,
   "id": "b815334b-4f3a-46da-88a3-d2ce8da0a548",
   "metadata": {},
   "outputs": [],
   "source": [
    "df[\"tokens\"] = df[\"Comments\"].apply(textCleaner)\n",
    "df[\"review_Length\"] = df[\"tokens\"]. apply(len)"
   ]
  },
  {
   "cell_type": "code",
   "execution_count": 10,
   "id": "aff0b8e0-26e6-4b29-a07e-be777f8ab50d",
   "metadata": {},
   "outputs": [
    {
     "data": {
      "text/html": [
       "<div>\n",
       "<style scoped>\n",
       "    .dataframe tbody tr th:only-of-type {\n",
       "        vertical-align: middle;\n",
       "    }\n",
       "\n",
       "    .dataframe tbody tr th {\n",
       "        vertical-align: top;\n",
       "    }\n",
       "\n",
       "    .dataframe thead th {\n",
       "        text-align: right;\n",
       "    }\n",
       "</style>\n",
       "<table border=\"1\" class=\"dataframe\">\n",
       "  <thead>\n",
       "    <tr style=\"text-align: right;\">\n",
       "      <th></th>\n",
       "      <th>Comments</th>\n",
       "      <th>Ratings</th>\n",
       "      <th>tokens</th>\n",
       "      <th>review_Length</th>\n",
       "    </tr>\n",
       "  </thead>\n",
       "  <tbody>\n",
       "    <tr>\n",
       "      <th>0</th>\n",
       "      <td>I didnt go in with big hopes, but i was expect...</td>\n",
       "      <td>8</td>\n",
       "      <td>[go, big, hopes, expecting, better, adipurush,...</td>\n",
       "      <td>211</td>\n",
       "    </tr>\n",
       "    <tr>\n",
       "      <th>1</th>\n",
       "      <td>A unique genre, a well written story (script) ...</td>\n",
       "      <td>8</td>\n",
       "      <td>[unique, genre, well, written, story, script, ...</td>\n",
       "      <td>81</td>\n",
       "    </tr>\n",
       "    <tr>\n",
       "      <th>2</th>\n",
       "      <td>Majestic at scale, grandeur in VFX, and great ...</td>\n",
       "      <td>9</td>\n",
       "      <td>[majestic, scale, grandeur, vfx, great, blend,...</td>\n",
       "      <td>117</td>\n",
       "    </tr>\n",
       "    <tr>\n",
       "      <th>3</th>\n",
       "      <td>\"Kalki 2898\" is not just a movie; it's an expe...</td>\n",
       "      <td>10</td>\n",
       "      <td>[kalki, movie, experience, redefines, boundari...</td>\n",
       "      <td>270</td>\n",
       "    </tr>\n",
       "    <tr>\n",
       "      <th>4</th>\n",
       "      <td>Best Indian movie Nagi combined Hindu mytholog...</td>\n",
       "      <td>10</td>\n",
       "      <td>[best, indian, movie, nagi, combined, hindu, m...</td>\n",
       "      <td>63</td>\n",
       "    </tr>\n",
       "    <tr>\n",
       "      <th>5</th>\n",
       "      <td>The Kalki 2898 AD movie is an epic dystopian s...</td>\n",
       "      <td>10</td>\n",
       "      <td>[kalki, ad, movie, epic, dystopian, science, f...</td>\n",
       "      <td>65</td>\n",
       "    </tr>\n",
       "    <tr>\n",
       "      <th>6</th>\n",
       "      <td>#NagAshwin dreams big and manages to execute t...</td>\n",
       "      <td>10</td>\n",
       "      <td>[nagashwin, dreams, big, manages, execute, spe...</td>\n",
       "      <td>168</td>\n",
       "    </tr>\n",
       "    <tr>\n",
       "      <th>7</th>\n",
       "      <td>The soaring epicness of second part of the fil...</td>\n",
       "      <td>6</td>\n",
       "      <td>[soaring, epicness, second, part, film, excell...</td>\n",
       "      <td>62</td>\n",
       "    </tr>\n",
       "    <tr>\n",
       "      <th>8</th>\n",
       "      <td>Let me share a review of the movie \"Kalki 2898...</td>\n",
       "      <td>9</td>\n",
       "      <td>[let, share, review, movie, kalki, ad, directe...</td>\n",
       "      <td>171</td>\n",
       "    </tr>\n",
       "    <tr>\n",
       "      <th>9</th>\n",
       "      <td>I don't understand the obsession with hero ent...</td>\n",
       "      <td>6</td>\n",
       "      <td>[understand, obsession, hero, entry, people, g...</td>\n",
       "      <td>52</td>\n",
       "    </tr>\n",
       "  </tbody>\n",
       "</table>\n",
       "</div>"
      ],
      "text/plain": [
       "                                            Comments  Ratings  \\\n",
       "0  I didnt go in with big hopes, but i was expect...        8   \n",
       "1  A unique genre, a well written story (script) ...        8   \n",
       "2  Majestic at scale, grandeur in VFX, and great ...        9   \n",
       "3  \"Kalki 2898\" is not just a movie; it's an expe...       10   \n",
       "4  Best Indian movie Nagi combined Hindu mytholog...       10   \n",
       "5  The Kalki 2898 AD movie is an epic dystopian s...       10   \n",
       "6  #NagAshwin dreams big and manages to execute t...       10   \n",
       "7  The soaring epicness of second part of the fil...        6   \n",
       "8  Let me share a review of the movie \"Kalki 2898...        9   \n",
       "9  I don't understand the obsession with hero ent...        6   \n",
       "\n",
       "                                              tokens  review_Length  \n",
       "0  [go, big, hopes, expecting, better, adipurush,...            211  \n",
       "1  [unique, genre, well, written, story, script, ...             81  \n",
       "2  [majestic, scale, grandeur, vfx, great, blend,...            117  \n",
       "3  [kalki, movie, experience, redefines, boundari...            270  \n",
       "4  [best, indian, movie, nagi, combined, hindu, m...             63  \n",
       "5  [kalki, ad, movie, epic, dystopian, science, f...             65  \n",
       "6  [nagashwin, dreams, big, manages, execute, spe...            168  \n",
       "7  [soaring, epicness, second, part, film, excell...             62  \n",
       "8  [let, share, review, movie, kalki, ad, directe...            171  \n",
       "9  [understand, obsession, hero, entry, people, g...             52  "
      ]
     },
     "execution_count": 10,
     "metadata": {},
     "output_type": "execute_result"
    }
   ],
   "source": [
    "df.head(10)"
   ]
  },
  {
   "cell_type": "code",
   "execution_count": 13,
   "id": "491e9d1d-c20e-416b-9e34-7b6eb306365b",
   "metadata": {},
   "outputs": [
    {
     "name": "stdout",
     "output_type": "stream",
     "text": [
      "Most Frequent words: [('movie', 9200), ('film', 7200), ('story', 6000), ('kalki', 5200), ('prabhas', 4800), ('like', 4600), ('good', 4600), ('amitabh', 3800), ('characters', 3600), ('scenes', 3400), ('indian', 3400), ('nag', 3400), ('character', 3200), ('action', 3000), ('bachchan', 3000), ('ashwin', 3000), ('half', 2800), ('world', 2800), ('first', 2600), ('vfx', 2600)]\n"
     ]
    }
   ],
   "source": [
    "all_token = [token for tokens in df[\"tokens\"] for token in tokens]\n",
    "wordFreq = Counter(all_token)\n",
    "\n",
    "print(f\"Most Frequent words: {wordFreq.most_common(20)}\")"
   ]
  },
  {
   "cell_type": "code",
   "execution_count": 20,
   "id": "7a193c31-d0ac-4fa6-a449-3ef5266ef7e4",
   "metadata": {
    "scrolled": true
   },
   "outputs": [
    {
     "data": {
      "image/png": "[encoded data removed]",
      "text/plain": [
       "<Figure size 640x480 with 1 Axes>"
      ]
     },
     "metadata": {},
     "output_type": "display_data"
    },
    {
     "data": {
      "image/png": "[encoded data removed]",
      "text/plain": [
       "<Figure size 640x480 with 1 Axes>"
      ]
     },
     "metadata": {},
     "output_type": "display_data"
    }
   ],
   "source": [
    "plotCustom(df)"
   ]
  },
  {
   "cell_type": "markdown",
   "id": "302f2a48-b0dc-40a4-8905-6e26da997f5e",
   "metadata": {},
   "source": [
    "## Spacy Analysis"
   ]
  },
  {
   "cell_type": "code",
   "execution_count": 21,
   "id": "64731748-c48c-4057-b40d-0789202defef",
   "metadata": {},
   "outputs": [
    {
     "name": "stdout",
     "output_type": "stream",
     "text": [
      "[('2D(i', 'CARDINAL'), ('London', 'GPE'), ('the first half', 'DATE'), ('Prabhas', 'GPE'), ('intro', 'PERSON'), ('Amitabh', 'PERSON'), ('Abhishek', 'PERSON'), ('Amitabh', 'PERSON'), ('one', 'CARDINAL'), ('Prabhas', 'GPE'), ('Disha', 'GPE'), ('1', 'CARDINAL'), ('Prabhas', 'GPE'), ('60-70%', 'PERCENT'), ('second', 'ORDINAL'), ('Bhairava', 'PERSON'), ('Aswathamma', 'GPE'), ('Mahabharat', 'NORP'), ('second', 'ORDINAL')]\n",
      "[('I', 'PRON'), ('did', 'AUX'), ('nt', 'PART'), ('go', 'VERB'), ('in', 'ADP'), ('with', 'ADP'), ('big', 'ADJ'), ('hopes', 'NOUN'), (',', 'PUNCT'), ('but', 'CCONJ'), ('i', 'PRON'), ('was', 'AUX'), ('expecting', 'VERB'), ('better', 'ADJ'), ('than', 'ADP'), ('Adipurush-', 'PROPN'), ('this', 'PRON'), ('was', 'AUX'), ('way', 'ADV'), ('better', 'ADJ')]\n"
     ]
    }
   ],
   "source": [
    "nlp = spacy.load(\"en_core_web_sm\")\n",
    "\n",
    "doc = nlp(df[\"Comments\"].iloc[0])\n",
    "print([(ent.text, ent.label_) for ent in doc.ents]) \n",
    "print([(token.text, token.pos_) for token in doc[:20]])"
   ]
  },
  {
   "cell_type": "markdown",
   "id": "8a8863a4-3c38-49f3-bcc0-9d8dc8ca5ad5",
   "metadata": {},
   "source": [
    "### Sentimental Angle"
   ]
  },
  {
   "cell_type": "code",
   "execution_count": 23,
   "id": "705cac04-7f4d-4380-b8f2-64bbe44be24d",
   "metadata": {},
   "outputs": [
    {
     "data": {
      "image/png": "[encoded data removed]",
      "text/plain": [
       "<Figure size 640x480 with 1 Axes>"
      ]
     },
     "metadata": {},
     "output_type": "display_data"
    }
   ],
   "source": [
    "df[\"Sentiment\"] = df[\"Ratings\"].apply(\n",
    "    lambda x: \"positive\" if x >= 7 else (\"negative\" if x <= 4 else \"neutral\")\n",
    ")\n",
    "\n",
    "sns.countplot(x=\"Sentiment\", data=df)\n",
    "plt.title(\"Sentiment Distribution\")\n",
    "plt.show()"
   ]
  },
  {
   "cell_type": "markdown",
   "id": "71b71bfa-de21-4c51-9114-8efb5accd2d5",
   "metadata": {},
   "source": [
    "***Conclusion:***\n",
    "\n",
    "The movie was received mostly positively and barely any poeple dislike the movie."
   ]
  }
 ],
 "metadata": {
  "kernelspec": {
   "display_name": "Python 3 (ipykernel)",
   "language": "python",
   "name": "python3"
  },
  "language_info": {
   "codemirror_mode": {
    "name": "ipython",
    "version": 3
   },
   "file_extension": ".py",
   "mimetype": "text/x-python",
   "name": "python",
   "nbconvert_exporter": "python",
   "pygments_lexer": "ipython3",
   "version": "3.12.5"
  }
 },
 "nbformat": 4,
 "nbformat_minor": 5
}
